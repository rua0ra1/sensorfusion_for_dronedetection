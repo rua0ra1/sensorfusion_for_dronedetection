{
 "cells": [
  {
   "cell_type": "code",
   "execution_count": 7,
   "metadata": {},
   "outputs": [],
   "source": [
    "#Extract Frames from the Video: Use Python and OpenCV to extract frames from the video\n",
    "import cv2\n",
    "import os\n",
    "\n",
    "# Function to extract frames from a video and save them\n",
    "def extract_frames(video_path, output_dir, basename):\n",
    "    os.makedirs(output_dir, exist_ok=True)\n",
    "    cap = cv2.VideoCapture(video_path)\n",
    "    frame_count = 0\n",
    "\n",
    "    # Loop to read and save each frame\n",
    "    while cap.isOpened():\n",
    "        ret, frame = cap.read()\n",
    "        if not ret:\n",
    "            break\n",
    "        frame_name = os.path.join(output_dir, f'{basename}_frame_{frame_count}.jpg')\n",
    "        cv2.imwrite(frame_name, frame)\n",
    "        frame_count += 1\n",
    "\n",
    "    cap.release()\n",
    "    print(f\"Extracted {frame_count} frames from {video_path}\")\n",
    "    return frame_count"
   ]
  },
  {
   "cell_type": "code",
   "execution_count": 17,
   "metadata": {},
   "outputs": [],
   "source": [
    "import scipy.io\n",
    "\n",
    "# Load labels from .mat file\n",
    "def load_labels_from_mat(mat_file):\n",
    "    mat_data = scipy.io.loadmat(mat_file)\n",
    "    print(mat_data.keys())\n",
    "    gTruth = mat_data.get('gTruth', None)  # Replace with actual key if different\n",
    "    if gTruth is None:\n",
    "        raise ValueError(\"Ground truth data not found in the .mat file\")\n",
    "\n",
    "    # Extract label data (adjust according to structure of gTruth)\n",
    "    # Assuming 'LabelData' contains bounding boxes and class labels\n",
    "    label_data = gTruth['LabelData']  # adjust key based on your .mat file structure\n",
    "    return label_data\n"
   ]
  },
  {
   "cell_type": "code",
   "execution_count": 18,
   "metadata": {},
   "outputs": [],
   "source": [
    "#convert labels to yolo format\n",
    "def convert_to_yolo_format(bbox, img_width, img_height):\n",
    "    # bbox format: [x_min, y_min, width, height]\n",
    "    x_center = (bbox[0] + bbox[2] / 2) / img_width\n",
    "    y_center = (bbox[1] + bbox[3] / 2) / img_height\n",
    "    width = bbox[2] / img_width\n",
    "    height = bbox[3] / img_height\n",
    "    return [x_center, y_center, width, height]"
   ]
  },
  {
   "cell_type": "code",
   "execution_count": 19,
   "metadata": {},
   "outputs": [],
   "source": [
    "#save Frames and YOLO labels\n",
    "import os\n",
    "\n",
    "# Save frames and YOLO labels for a video\n",
    "def save_yolo_labels(frame_count, labels, output_image_dir, output_label_dir, basename, class_mapping, img_width, img_height):\n",
    "    os.makedirs(output_image_dir, exist_ok=True)\n",
    "    os.makedirs(output_label_dir, exist_ok=True)\n",
    "\n",
    "    for i in range(frame_count):\n",
    "        # Define frame and label paths\n",
    "        frame_name = f'{basename}_frame_{i}.jpg'\n",
    "        frame_path = os.path.join(output_image_dir, frame_name)\n",
    "        label_path = os.path.join(output_label_dir, f'{basename}_frame_{i}.txt')\n",
    "        \n",
    "        with open(label_path, 'w') as f:\n",
    "            # Loop through each bounding box for the frame\n",
    "            for label in labels[i]:  # assuming labels is a list of bbox for each frame\n",
    "                class_name = label['ClassName']\n",
    "                class_id = class_mapping[class_name]\n",
    "                bbox = label['BoundingBox']\n",
    "                \n",
    "                # Convert bbox to YOLO format\n",
    "                yolo_bbox = convert_to_yolo_format(bbox, img_width, img_height)\n",
    "                \n",
    "                # Write YOLO formatted label to file\n",
    "                f.write(f\"{class_id} \" + \" \".join(map(str, yolo_bbox)) + \"\\n\")\n",
    "    print(f\"Saved YOLO labels for {frame_count} frames\")\n"
   ]
  },
  {
   "cell_type": "code",
   "execution_count": 20,
   "metadata": {},
   "outputs": [
    {
     "name": "stdout",
     "output_type": "stream",
     "text": [
      "Extracted 301 frames from ../Drone-detection-dataset/Data/Video_IR/IR_AIRPLANE_038.mp4\n",
      "dict_keys(['__header__', '__version__', '__globals__', 'None', '__function_workspace__'])\n"
     ]
    },
    {
     "ename": "ValueError",
     "evalue": "Ground truth data not found in the .mat file",
     "output_type": "error",
     "traceback": [
      "\u001b[0;31m---------------------------------------------------------------------------\u001b[0m",
      "\u001b[0;31mValueError\u001b[0m                                Traceback (most recent call last)",
      "Cell \u001b[0;32mIn[20], line 25\u001b[0m\n\u001b[1;32m     22\u001b[0m frame_count \u001b[38;5;241m=\u001b[39m extract_frames(video_path, output_image_dir, basename)\n\u001b[1;32m     24\u001b[0m \u001b[38;5;66;03m# Load labels from .mat file\u001b[39;00m\n\u001b[0;32m---> 25\u001b[0m labels \u001b[38;5;241m=\u001b[39m \u001b[43mload_labels_from_mat\u001b[49m\u001b[43m(\u001b[49m\u001b[43mmat_file\u001b[49m\u001b[43m)\u001b[49m\n\u001b[1;32m     27\u001b[0m \u001b[38;5;66;03m# Assuming all frames have same resolution\u001b[39;00m\n\u001b[1;32m     28\u001b[0m cap \u001b[38;5;241m=\u001b[39m cv2\u001b[38;5;241m.\u001b[39mVideoCapture(video_path)\n",
      "Cell \u001b[0;32mIn[17], line 9\u001b[0m, in \u001b[0;36mload_labels_from_mat\u001b[0;34m(mat_file)\u001b[0m\n\u001b[1;32m      7\u001b[0m gTruth \u001b[38;5;241m=\u001b[39m mat_data\u001b[38;5;241m.\u001b[39mget(\u001b[38;5;124m'\u001b[39m\u001b[38;5;124mgTruth\u001b[39m\u001b[38;5;124m'\u001b[39m, \u001b[38;5;28;01mNone\u001b[39;00m)  \u001b[38;5;66;03m# Replace with actual key if different\u001b[39;00m\n\u001b[1;32m      8\u001b[0m \u001b[38;5;28;01mif\u001b[39;00m gTruth \u001b[38;5;129;01mis\u001b[39;00m \u001b[38;5;28;01mNone\u001b[39;00m:\n\u001b[0;32m----> 9\u001b[0m     \u001b[38;5;28;01mraise\u001b[39;00m \u001b[38;5;167;01mValueError\u001b[39;00m(\u001b[38;5;124m\"\u001b[39m\u001b[38;5;124mGround truth data not found in the .mat file\u001b[39m\u001b[38;5;124m\"\u001b[39m)\n\u001b[1;32m     11\u001b[0m \u001b[38;5;66;03m# Extract label data (adjust according to structure of gTruth)\u001b[39;00m\n\u001b[1;32m     12\u001b[0m \u001b[38;5;66;03m# Assuming 'LabelData' contains bounding boxes and class labels\u001b[39;00m\n\u001b[1;32m     13\u001b[0m label_data \u001b[38;5;241m=\u001b[39m gTruth[\u001b[38;5;124m'\u001b[39m\u001b[38;5;124mLabelData\u001b[39m\u001b[38;5;124m'\u001b[39m]  \u001b[38;5;66;03m# adjust key based on your .mat file structure\u001b[39;00m\n",
      "\u001b[0;31mValueError\u001b[0m: Ground truth data not found in the .mat file"
     ]
    }
   ],
   "source": [
    "#process all videos and labels\n",
    "# Define paths and class mapping\n",
    "import os \n",
    "import glob\n",
    "\n",
    "data_dir = os.path.join(\"..\", \"Drone-detection-dataset/Data/Video_IR\")  # Relative path to data directory\n",
    "video_dir = data_dir\n",
    "label_dir = data_dir\n",
    "\n",
    "output_image_dir = os.path.join(\"..\", \"training_data\", \"images\")\n",
    "output_label_dir = os.path.join(\"..\", \"training_data\", \"labels\")\n",
    "class_mapping = {\"AIRPLANE\": 0, \"BIRD\": 1, \"DRONE\": 2, \"HELICOPTER\": 3}\n",
    "\n",
    "# Process each video and its corresponding .mat file\n",
    "for video_file in os.listdir(video_dir):\n",
    "    if video_file.endswith('.mp4'):\n",
    "        basename = os.path.splitext(video_file)[0]\n",
    "        video_path = os.path.join(video_dir, video_file)\n",
    "        mat_file = os.path.join(label_dir, f\"{basename}_LABELS.mat\")\n",
    "\n",
    "        # Extract frames from video\n",
    "        frame_count = extract_frames(video_path, output_image_dir, basename)\n",
    "\n",
    "        # Load labels from .mat file\n",
    "        labels = load_labels_from_mat(mat_file)\n",
    "\n",
    "        # Assuming all frames have same resolution\n",
    "        cap = cv2.VideoCapture(video_path)\n",
    "        ret, frame = cap.read()\n",
    "        img_height, img_width = frame.shape[:2]\n",
    "        cap.release()\n",
    "\n",
    "        # Save images and YOLO labels\n",
    "        save_yolo_labels(frame_count, labels, output_image_dir, output_label_dir, basename, class_mapping, img_width, img_height)\n",
    "\n",
    "print(\"Completed processing all videos and labels.\")"
   ]
  },
  {
   "cell_type": "code",
   "execution_count": 23,
   "metadata": {},
   "outputs": [
    {
     "name": "stdout",
     "output_type": "stream",
     "text": [
      "dict_keys(['__header__', '__version__', '__globals__', 'None', '__function_workspace__'])\n",
      "[(b'gTruth', b'MCOS', b'groundTruth', array([[3707764736],\n",
      "        [         2],\n",
      "        [         1],\n",
      "        [         1],\n",
      "        [         1],\n",
      "        [         5]], dtype=uint32))                     ]\n"
     ]
    },
    {
     "ename": "ValueError",
     "evalue": "Ground truth data not found in the .mat file",
     "output_type": "error",
     "traceback": [
      "\u001b[0;31m---------------------------------------------------------------------------\u001b[0m",
      "\u001b[0;31mValueError\u001b[0m                                Traceback (most recent call last)",
      "Cell \u001b[0;32mIn[23], line 32\u001b[0m\n\u001b[1;32m     28\u001b[0m     \u001b[38;5;28;01mreturn\u001b[39;00m label_data\n\u001b[1;32m     30\u001b[0m data_dir \u001b[38;5;241m=\u001b[39m os\u001b[38;5;241m.\u001b[39mpath\u001b[38;5;241m.\u001b[39mjoin(\u001b[38;5;124m\"\u001b[39m\u001b[38;5;124m..\u001b[39m\u001b[38;5;124m\"\u001b[39m, \u001b[38;5;124m\"\u001b[39m\u001b[38;5;124mDrone-detection-dataset/Data/Video_IR/IR_AIRPLANE_001_LABELS.mat\u001b[39m\u001b[38;5;124m\"\u001b[39m)  \u001b[38;5;66;03m# Relative path to data directory\u001b[39;00m\n\u001b[0;32m---> 32\u001b[0m \u001b[43mload_labels_from_mat\u001b[49m\u001b[43m(\u001b[49m\u001b[43mdata_dir\u001b[49m\u001b[43m)\u001b[49m\n",
      "Cell \u001b[0;32mIn[23], line 23\u001b[0m, in \u001b[0;36mload_labels_from_mat\u001b[0;34m(mat_file)\u001b[0m\n\u001b[1;32m     21\u001b[0m gTruth \u001b[38;5;241m=\u001b[39m mat_data\u001b[38;5;241m.\u001b[39mget(\u001b[38;5;124m'\u001b[39m\u001b[38;5;124mgTruth\u001b[39m\u001b[38;5;124m'\u001b[39m, \u001b[38;5;28;01mNone\u001b[39;00m)  \u001b[38;5;66;03m# Replace with actual key if different\u001b[39;00m\n\u001b[1;32m     22\u001b[0m \u001b[38;5;28;01mif\u001b[39;00m gTruth \u001b[38;5;129;01mis\u001b[39;00m \u001b[38;5;28;01mNone\u001b[39;00m:\n\u001b[0;32m---> 23\u001b[0m     \u001b[38;5;28;01mraise\u001b[39;00m \u001b[38;5;167;01mValueError\u001b[39;00m(\u001b[38;5;124m\"\u001b[39m\u001b[38;5;124mGround truth data not found in the .mat file\u001b[39m\u001b[38;5;124m\"\u001b[39m)\n\u001b[1;32m     25\u001b[0m \u001b[38;5;66;03m# Extract label data (adjust according to structure of gTruth)\u001b[39;00m\n\u001b[1;32m     26\u001b[0m \u001b[38;5;66;03m# Assuming 'LabelData' contains bounding boxes and class labels\u001b[39;00m\n\u001b[1;32m     27\u001b[0m label_data \u001b[38;5;241m=\u001b[39m gTruth[\u001b[38;5;124m'\u001b[39m\u001b[38;5;124mLabelData\u001b[39m\u001b[38;5;124m'\u001b[39m]  \u001b[38;5;66;03m# adjust key based on your .mat file structure\u001b[39;00m\n",
      "\u001b[0;31mValueError\u001b[0m: Ground truth data not found in the .mat file"
     ]
    }
   ],
   "source": [
    "import scipy.io\n",
    "import os\n",
    "\n",
    "# Load labels from .mat file\n",
    "def load_labels_from_mat(mat_file):\n",
    "    mat_data = scipy.io.loadmat(mat_file)\n",
    "    print(mat_data.keys())\n",
    "\n",
    "    # print(mat_data['__function_workspace__'])\n",
    "    # print(mat_data['__header__'])\n",
    "    # print(mat_data['__version__'])\n",
    "    # print(mat_data['__globals__'])\n",
    "    print(mat_data['None'])\n",
    "\n",
    "    gTruth = mat_data.get('gTruth', None)  # Replace with actual key if different\n",
    "    if gTruth is None:\n",
    "        raise ValueError(\"Ground truth data not found in the .mat file\")\n",
    "\n",
    "    # Extract label data (adjust according to structure of gTruth)\n",
    "    # Assuming 'LabelData' contains bounding boxes and class labels\n",
    "    label_data = gTruth['LabelData']  # adjust key based on your .mat file structure\n",
    "    return label_data\n",
    "\n",
    "data_dir = os.path.join(\"..\", \"Drone-detection-dataset/Data/Video_IR/IR_AIRPLANE_001_LABELS.mat\")  # Relative path to data directory\n",
    "\n",
    "load_labels_from_mat(data_dir)\n",
    "\n"
   ]
  },
  {
   "cell_type": "code",
   "execution_count": 25,
   "metadata": {},
   "outputs": [
    {
     "ename": "ParseError",
     "evalue": "Got type 1, expected 5 (miINT32)",
     "output_type": "error",
     "traceback": [
      "\u001b[0;31m---------------------------------------------------------------------------\u001b[0m",
      "\u001b[0;31mParseError\u001b[0m                                Traceback (most recent call last)",
      "Cell \u001b[0;32mIn[25], line 5\u001b[0m\n\u001b[1;32m      1\u001b[0m \u001b[38;5;28;01mfrom\u001b[39;00m \u001b[38;5;21;01mmat4py\u001b[39;00m \u001b[38;5;28;01mimport\u001b[39;00m loadmat\n\u001b[1;32m      3\u001b[0m data_dir \u001b[38;5;241m=\u001b[39m os\u001b[38;5;241m.\u001b[39mpath\u001b[38;5;241m.\u001b[39mjoin(\u001b[38;5;124m\"\u001b[39m\u001b[38;5;124m..\u001b[39m\u001b[38;5;124m\"\u001b[39m, \u001b[38;5;124m\"\u001b[39m\u001b[38;5;124mDrone-detection-dataset/Data/Video_IR/IR_AIRPLANE_001_LABELS.mat\u001b[39m\u001b[38;5;124m\"\u001b[39m)  \u001b[38;5;66;03m# Relative path to data directory\u001b[39;00m\n\u001b[0;32m----> 5\u001b[0m mat_data \u001b[38;5;241m=\u001b[39m \u001b[43mloadmat\u001b[49m\u001b[43m(\u001b[49m\u001b[43mdata_dir\u001b[49m\u001b[43m)\u001b[49m\n\u001b[1;32m      6\u001b[0m \u001b[38;5;28mprint\u001b[39m(mat_data)\n",
      "File \u001b[0;32m~/personal/droneshield/sensor_fusion/sensorfusion_for_dronedetection/venv/lib/python3.8/site-packages/mat4py/loadmat.py:460\u001b[0m, in \u001b[0;36mloadmat\u001b[0;34m(filename, meta)\u001b[0m\n\u001b[1;32m    458\u001b[0m \u001b[38;5;66;03m# read data elements\u001b[39;00m\n\u001b[1;32m    459\u001b[0m \u001b[38;5;28;01mwhile\u001b[39;00m \u001b[38;5;129;01mnot\u001b[39;00m eof(fd):\n\u001b[0;32m--> 460\u001b[0m     hdr, next_position, fd_var \u001b[38;5;241m=\u001b[39m \u001b[43mread_var_header\u001b[49m\u001b[43m(\u001b[49m\u001b[43mfd\u001b[49m\u001b[43m,\u001b[49m\u001b[43m \u001b[49m\u001b[43mendian\u001b[49m\u001b[43m)\u001b[49m\n\u001b[1;32m    461\u001b[0m     name \u001b[38;5;241m=\u001b[39m hdr[\u001b[38;5;124m'\u001b[39m\u001b[38;5;124mname\u001b[39m\u001b[38;5;124m'\u001b[39m]\n\u001b[1;32m    462\u001b[0m     \u001b[38;5;28;01mif\u001b[39;00m name \u001b[38;5;129;01min\u001b[39;00m mdict:\n",
      "File \u001b[0;32m~/personal/droneshield/sensor_fusion/sensorfusion_for_dronedetection/venv/lib/python3.8/site-packages/mat4py/loadmat.py:256\u001b[0m, in \u001b[0;36mread_var_header\u001b[0;34m(fd, endian)\u001b[0m\n\u001b[1;32m    253\u001b[0m     \u001b[38;5;28;01mraise\u001b[39;00m ParseError(\u001b[38;5;124m'\u001b[39m\u001b[38;5;124mExpecting miMATRIX type number \u001b[39m\u001b[38;5;132;01m{}\u001b[39;00m\u001b[38;5;124m, \u001b[39m\u001b[38;5;124m'\u001b[39m\n\u001b[1;32m    254\u001b[0m                      \u001b[38;5;124m'\u001b[39m\u001b[38;5;124mgot \u001b[39m\u001b[38;5;132;01m{}\u001b[39;00m\u001b[38;5;124m'\u001b[39m\u001b[38;5;241m.\u001b[39mformat(etypes[\u001b[38;5;124m'\u001b[39m\u001b[38;5;124mmiMATRIX\u001b[39m\u001b[38;5;124m'\u001b[39m][\u001b[38;5;124m'\u001b[39m\u001b[38;5;124mn\u001b[39m\u001b[38;5;124m'\u001b[39m], mtpn))\n\u001b[1;32m    255\u001b[0m \u001b[38;5;66;03m# read the header\u001b[39;00m\n\u001b[0;32m--> 256\u001b[0m header \u001b[38;5;241m=\u001b[39m \u001b[43mread_header\u001b[49m\u001b[43m(\u001b[49m\u001b[43mfd\u001b[49m\u001b[43m,\u001b[49m\u001b[43m \u001b[49m\u001b[43mendian\u001b[49m\u001b[43m)\u001b[49m\n\u001b[1;32m    257\u001b[0m \u001b[38;5;28;01mreturn\u001b[39;00m header, next_pos, fd\n",
      "File \u001b[0;32m~/personal/droneshield/sensor_fusion/sensorfusion_for_dronedetection/venv/lib/python3.8/site-packages/mat4py/loadmat.py:221\u001b[0m, in \u001b[0;36mread_header\u001b[0;34m(fd, endian)\u001b[0m\n\u001b[1;32m    213\u001b[0m flag_class, nzmax \u001b[38;5;241m=\u001b[39m read_elements(fd, endian, [\u001b[38;5;124m'\u001b[39m\u001b[38;5;124mmiUINT32\u001b[39m\u001b[38;5;124m'\u001b[39m])\n\u001b[1;32m    214\u001b[0m header \u001b[38;5;241m=\u001b[39m {\n\u001b[1;32m    215\u001b[0m     \u001b[38;5;124m'\u001b[39m\u001b[38;5;124mmclass\u001b[39m\u001b[38;5;124m'\u001b[39m: flag_class \u001b[38;5;241m&\u001b[39m \u001b[38;5;241m0x0FF\u001b[39m,\n\u001b[1;32m    216\u001b[0m     \u001b[38;5;124m'\u001b[39m\u001b[38;5;124mis_logical\u001b[39m\u001b[38;5;124m'\u001b[39m: (flag_class \u001b[38;5;241m>>\u001b[39m \u001b[38;5;241m9\u001b[39m \u001b[38;5;241m&\u001b[39m \u001b[38;5;241m1\u001b[39m) \u001b[38;5;241m==\u001b[39m \u001b[38;5;241m1\u001b[39m,\n\u001b[0;32m   (...)\u001b[0m\n\u001b[1;32m    219\u001b[0m     \u001b[38;5;124m'\u001b[39m\u001b[38;5;124mnzmax\u001b[39m\u001b[38;5;124m'\u001b[39m: nzmax\n\u001b[1;32m    220\u001b[0m }\n\u001b[0;32m--> 221\u001b[0m header[\u001b[38;5;124m'\u001b[39m\u001b[38;5;124mdims\u001b[39m\u001b[38;5;124m'\u001b[39m] \u001b[38;5;241m=\u001b[39m \u001b[43mread_elements\u001b[49m\u001b[43m(\u001b[49m\u001b[43mfd\u001b[49m\u001b[43m,\u001b[49m\u001b[43m \u001b[49m\u001b[43mendian\u001b[49m\u001b[43m,\u001b[49m\u001b[43m \u001b[49m\u001b[43m[\u001b[49m\u001b[38;5;124;43m'\u001b[39;49m\u001b[38;5;124;43mmiINT32\u001b[39;49m\u001b[38;5;124;43m'\u001b[39;49m\u001b[43m]\u001b[49m\u001b[43m)\u001b[49m\n\u001b[1;32m    222\u001b[0m header[\u001b[38;5;124m'\u001b[39m\u001b[38;5;124mn_dims\u001b[39m\u001b[38;5;124m'\u001b[39m] \u001b[38;5;241m=\u001b[39m \u001b[38;5;28mlen\u001b[39m(header[\u001b[38;5;124m'\u001b[39m\u001b[38;5;124mdims\u001b[39m\u001b[38;5;124m'\u001b[39m])\n\u001b[1;32m    223\u001b[0m \u001b[38;5;28;01mif\u001b[39;00m header[\u001b[38;5;124m'\u001b[39m\u001b[38;5;124mn_dims\u001b[39m\u001b[38;5;124m'\u001b[39m] \u001b[38;5;241m!=\u001b[39m \u001b[38;5;241m2\u001b[39m:\n",
      "File \u001b[0;32m~/personal/droneshield/sensor_fusion/sensorfusion_for_dronedetection/venv/lib/python3.8/site-packages/mat4py/loadmat.py:182\u001b[0m, in \u001b[0;36mread_elements\u001b[0;34m(fd, endian, mtps, is_name)\u001b[0m\n\u001b[1;32m    180\u001b[0m mtpn, num_bytes, data \u001b[38;5;241m=\u001b[39m read_element_tag(fd, endian)\n\u001b[1;32m    181\u001b[0m \u001b[38;5;28;01mif\u001b[39;00m mtps \u001b[38;5;129;01mand\u001b[39;00m mtpn \u001b[38;5;129;01mnot\u001b[39;00m \u001b[38;5;129;01min\u001b[39;00m [etypes[mtp][\u001b[38;5;124m'\u001b[39m\u001b[38;5;124mn\u001b[39m\u001b[38;5;124m'\u001b[39m] \u001b[38;5;28;01mfor\u001b[39;00m mtp \u001b[38;5;129;01min\u001b[39;00m mtps]:\n\u001b[0;32m--> 182\u001b[0m     \u001b[38;5;28;01mraise\u001b[39;00m ParseError(\u001b[38;5;124m'\u001b[39m\u001b[38;5;124mGot type \u001b[39m\u001b[38;5;132;01m{}\u001b[39;00m\u001b[38;5;124m, expected \u001b[39m\u001b[38;5;132;01m{}\u001b[39;00m\u001b[38;5;124m'\u001b[39m\u001b[38;5;241m.\u001b[39mformat(\n\u001b[1;32m    183\u001b[0m         mtpn, \u001b[38;5;124m'\u001b[39m\u001b[38;5;124m / \u001b[39m\u001b[38;5;124m'\u001b[39m\u001b[38;5;241m.\u001b[39mjoin(\u001b[38;5;124m'\u001b[39m\u001b[38;5;132;01m{}\u001b[39;00m\u001b[38;5;124m (\u001b[39m\u001b[38;5;132;01m{}\u001b[39;00m\u001b[38;5;124m)\u001b[39m\u001b[38;5;124m'\u001b[39m\u001b[38;5;241m.\u001b[39mformat(\n\u001b[1;32m    184\u001b[0m             etypes[mtp][\u001b[38;5;124m'\u001b[39m\u001b[38;5;124mn\u001b[39m\u001b[38;5;124m'\u001b[39m], mtp) \u001b[38;5;28;01mfor\u001b[39;00m mtp \u001b[38;5;129;01min\u001b[39;00m mtps)))\n\u001b[1;32m    185\u001b[0m \u001b[38;5;28;01mif\u001b[39;00m \u001b[38;5;129;01mnot\u001b[39;00m data:\n\u001b[1;32m    186\u001b[0m     \u001b[38;5;66;03m# full format, read data\u001b[39;00m\n\u001b[1;32m    187\u001b[0m     data \u001b[38;5;241m=\u001b[39m fd\u001b[38;5;241m.\u001b[39mread(num_bytes)\n",
      "\u001b[0;31mParseError\u001b[0m: Got type 1, expected 5 (miINT32)"
     ]
    }
   ],
   "source": []
  },
  {
   "cell_type": "code",
   "execution_count": null,
   "metadata": {},
   "outputs": [],
   "source": []
  }
 ],
 "metadata": {
  "kernelspec": {
   "display_name": "venv",
   "language": "python",
   "name": "python3"
  },
  "language_info": {
   "codemirror_mode": {
    "name": "ipython",
    "version": 3
   },
   "file_extension": ".py",
   "mimetype": "text/x-python",
   "name": "python",
   "nbconvert_exporter": "python",
   "pygments_lexer": "ipython3",
   "version": "3.8.10"
  }
 },
 "nbformat": 4,
 "nbformat_minor": 2
}
